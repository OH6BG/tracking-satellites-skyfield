{
 "cells": [
  {
   "cell_type": "markdown",
   "metadata": {},
   "source": [
    "# Tracking Amateur Radio Satellites using Skyfield"
   ]
  },
  {
   "cell_type": "markdown",
   "metadata": {},
   "source": [
    "By Jari Perkiömäki OH6BG\n",
    "\n",
    "In this example, we calculate the times of visibility of amateur radio satellites, i.e. when the satellites are above the horizon in the Observer's geographical location. Typically, satellites can cross over the Observer's location quite a number of times each day. Also, we calculate the azimuth and the distance from the Observer to the satellite.\n",
    "\n",
    "The resolution for calculations is one minute.\n",
    "\n",
    "We are using the new Skyfield module from https://github.com/skyfielders/python-skyfield by Brandon Rhodes. This script requires an Internet connection as the TLE (Two-Line Element set) satellite data need to be downloaded.\n",
    "\n",
    "Install the Skyfield module as follows:"
   ]
  },
  {
   "cell_type": "code",
   "execution_count": null,
   "metadata": {},
   "outputs": [],
   "source": [
    "pip install skyfield"
   ]
  },
  {
   "cell_type": "markdown",
   "metadata": {},
   "source": [
    "This is a plain vanilla Python 3 code to show the skeleton for such calculations. Unfortunately, it will run a little bit slowly. This is a known issue but I did not try to optimize the code to make it run faster.\n",
    "\n",
    "Let's first load the Skyfield module."
   ]
  },
  {
   "cell_type": "code",
   "execution_count": null,
   "metadata": {},
   "outputs": [],
   "source": [
    "from skyfield.api import Topos, load\n",
    "\n",
    "ts = load.timescale()\n",
    "t = ts.now()"
   ]
  },
  {
   "cell_type": "markdown",
   "metadata": {},
   "source": [
    "We will need to know the Observer's geographical coordinates, and the date we are interested in."
   ]
  },
  {
   "cell_type": "code",
   "execution_count": null,
   "metadata": {},
   "outputs": [],
   "source": [
    "# Observer coordinates\n",
    "# lat = decimal latitude, positive for N, negative for S\n",
    "# lon = decimal longitude, positive for E, negative for W\n",
    "lat, lon = 40.7128, -74.0060  # New York\n",
    "\n",
    "# Observer date\n",
    "year, month, day = 2018, 12, 17"
   ]
  },
  {
   "cell_type": "markdown",
   "metadata": {},
   "source": [
    "Let's initialize some variables and the output filename, and define the URL where the satellite TLE (two-line element set, see https://en.wikipedia.org/wiki/Two-line_element_set for clarification) data can be loaded. Finally, we will create the Skyfield Topos object from the Observer's coordinates."
   ]
  },
  {
   "cell_type": "code",
   "execution_count": null,
   "metadata": {},
   "outputs": [],
   "source": [
    "# initialize some parameters\n",
    "# i = a variable to count the number of unique satellites in the \"amateur.txt\" file\n",
    "# refreshed = a Boolean variable used when we will need to reload TLE data\n",
    "# sat_list = a list of unique satellite names\n",
    "i, refreshed, sat_list = 0, False, []\n",
    "\n",
    "# sat_file = the name of the output file, together with the date\n",
    "sat_file = \"amateur_satellite_times_%s-%s-%s.txt\" % (year, month, day)\n",
    "\n",
    "# the URL for the TLE satellite data\n",
    "stations_url = 'https://www.celestrak.com/NORAD/elements/amateur.txt'\n",
    "\n",
    "# load.tle() takes care of fetching the satellite TLE data from the Internet and parsing it\n",
    "satellites = load.tle(stations_url)\n",
    "\n",
    "# the Topos object describes the Observer's geographic location\n",
    "qth = Topos(lat, lon)"
   ]
  },
  {
   "cell_type": "code",
   "execution_count": null,
   "metadata": {},
   "outputs": [],
   "source": [
    "# some response on the screen to the user as the program starts to calculate the satellite data\n",
    "res = \"AMATEUR SATELLITE TIMES FOR LOCATION: %s, %s\" % (lat, lon)\n",
    "print(res)\n",
    "print(\"Date:\", \"-\".join([str(year), str(month), str(day)]), \"\\n\")"
   ]
  },
  {
   "cell_type": "markdown",
   "metadata": {},
   "source": [
    "Now, we loop the list of satellites, defined in NORAD's \"amateur.txt\" file. Unfortunately, we cannot just enumerate all the satellites as each satellite is parsed two to four times. Consequently, first, we will need to make sure that we only process unique satellites."
   ]
  },
  {
   "cell_type": "code",
   "execution_count": null,
   "metadata": {},
   "outputs": [],
   "source": [
    "for sat in satellites:\n",
    "\n",
    "    # if we encounter a satellite only identified by a number, we will skip it\n",
    "    if isinstance(sat, int):\n",
    "        continue\n",
    "\n",
    "    satellite = satellites[sat]\n",
    "    \n",
    "    # sid or satellite ID is a unique number for each satellite\n",
    "    sid = str(satellite).rsplit(' ', 2)[1].split(\"=\")[1]\n",
    "\n",
    "    # we are keeping a list of all unique satellite IDs and, if already in the list, we will not process it\n",
    "    if sid not in sat_list:\n",
    "        sat_list.append(sid)\n",
    "    else:\n",
    "        continue"
   ]
  },
  {
   "cell_type": "markdown",
   "metadata": {},
   "source": [
    "We will now check that the TLE satellite data is as fresh as possible to give us as accurate results as possible. If the TLE data is more than two days old, and has not refreshed earlier (note this check is done in a loop for all satellites), the script tries to reload all the necessary data, and continue."
   ]
  },
  {
   "cell_type": "code",
   "execution_count": null,
   "metadata": {},
   "outputs": [],
   "source": [
    "    difference = satellite - qth\n",
    "    days = t - satellite.epoch\n",
    "\n",
    "    if abs(days) > 2 and not refreshed:\n",
    "        satellites = load.tle(stations_url, reload=True)\n",
    "        refreshed = True\n",
    "        satellite = satellites[sat]\n",
    "        difference = satellite - qth\n",
    "        days = t - satellite.epoch"
   ]
  },
  {
   "cell_type": "markdown",
   "metadata": {},
   "source": [
    "We will initialize the unique satellite counter (\"i\"), and print some data on the screen for the user to show the progress of the script. Also, we will use the in-memory variable \"res\" to write the actual results to. The content of the variable \"res\" will finally be written to a file at the end of this script."
   ]
  },
  {
   "cell_type": "code",
   "execution_count": null,
   "metadata": {},
   "outputs": [],
   "source": [
    "    i += 1\n",
    "    print(\"Processing [%02d] %s: %.3f days away from epoch\" % (i, sat, days))\n",
    "    res += \"\\n%s: %.3f days away from epoch\\n\" % (sat, days)\n",
    "    res += \"%-16s  %3s  %-4s  %5s\\n\" % (\"DATETIME\",\n",
    "        \"ALT\",\n",
    "        \"AZIM\",\n",
    "        \"KM\",)"
   ]
  },
  {
   "cell_type": "markdown",
   "metadata": {},
   "source": [
    "For each satellite, we will calculate all 24 hours (hh) and, within all hours, all 60 minutes. The Boolean variable \"sep\" determines if we will later need to print a separator line in the results to distinguish the runs from each other."
   ]
  },
  {
   "cell_type": "code",
   "execution_count": null,
   "metadata": {},
   "outputs": [],
   "source": [
    "    sep = True\n",
    "\n",
    "    for hh in range(24):\n",
    "\n",
    "        for mm in range(60):\n",
    "\n",
    "            t = ts.utc(year, month, day, hh, mm)\n",
    "            topocentric = difference.at(t)\n",
    "            alt, az, distance = topocentric.altaz()"
   ]
  },
  {
   "cell_type": "markdown",
   "metadata": {},
   "source": [
    "If the altitude (the variable \"alt\"), or height above the horizon in degrees, is less than -0.5 degrees, then we will set the \"sep\" variable to True again to wait for the next instance where the satellite is visible again for the Observer. If so, we will need to print the separator line.\n",
    "\n",
    "When printing the results to the (output) variable \"sep\", note that we are using the UTC (Coordinated Universal Time) and not the Observer's local time. We are also formatting the datetime string as follows: <b>%Y-%m-%d %H:%M</b> [year-month-day hours:minutes], e.g. \"2018-12-17 21:29\"."
   ]
  },
  {
   "cell_type": "code",
   "execution_count": null,
   "metadata": {},
   "outputs": [],
   "source": [
    "            if alt.degrees < -0.5:\n",
    "                sep = True\n",
    "            else:\n",
    "                if sep:\n",
    "                    res += \"%s\\n\" % (\"-\" * 34)\n",
    "                    sep = False\n",
    "\n",
    "                res += \"%s  %2d°  %3d°  %5d\\n\" % (t.utc_strftime('%Y-%m-%d %H:%M'),\n",
    "                    round(alt.degrees),\n",
    "                    round(az.degrees),\n",
    "                    round(distance.km),)"
   ]
  },
  {
   "cell_type": "markdown",
   "metadata": {},
   "source": [
    "All calculations are now ready, and the results will be written to 'sat_file'. Finally, we are printing a message, noting that the output file has been written to disk."
   ]
  },
  {
   "cell_type": "code",
   "execution_count": null,
   "metadata": {},
   "outputs": [],
   "source": [
    "with open(sat_file, 'w', encoding='utf-8') as outfile:\n",
    "    outfile.write(res)\n",
    "\n",
    "print(\"Writing satellite times to: %s\" % sat_file)"
   ]
  }
 ],
 "metadata": {
  "kernelspec": {
   "display_name": "Python 3",
   "language": "python",
   "name": "python3"
  },
  "language_info": {
   "codemirror_mode": {
    "name": "ipython",
    "version": 3
   },
   "file_extension": ".py",
   "mimetype": "text/x-python",
   "name": "python",
   "nbconvert_exporter": "python",
   "pygments_lexer": "ipython3",
   "version": "3.7.0"
  }
 },
 "nbformat": 4,
 "nbformat_minor": 2
}
